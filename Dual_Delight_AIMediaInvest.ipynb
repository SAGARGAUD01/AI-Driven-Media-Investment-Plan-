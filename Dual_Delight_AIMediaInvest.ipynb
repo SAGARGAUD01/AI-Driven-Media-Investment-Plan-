{
  "cells": [
    {
      "cell_type": "markdown",
      "metadata": {
        "id": "view-in-github",
        "colab_type": "text"
      },
      "source": [
        "<a href=\"https://colab.research.google.com/github/SAGARGAUD01/AI-Driven-Media-Investment-Plan-/blob/main/Dual_Delight_AIMediaInvest.ipynb\" target=\"_parent\"><img src=\"https://colab.research.google.com/assets/colab-badge.svg\" alt=\"Open In Colab\"/></a>"
      ]
    },
    {
      "cell_type": "code",
      "execution_count": 1,
      "metadata": {
        "id": "ePErx0OLE8Sm"
      },
      "outputs": [],
      "source": [
        "# %pip install pandas==1.3.3\n",
        "# %pip install scikit-learn==0.24.2\n",
        "# %pip install matplotlib==3.4.3\n",
        "# %pip install seaborn==0.11.2"
      ]
    },
    {
      "cell_type": "markdown",
      "metadata": {
        "id": "PilPlInVE8Ss"
      },
      "source": [
        "#### Loading the data from the dataset"
      ]
    },
    {
      "cell_type": "code",
      "execution_count": 2,
      "metadata": {
        "id": "A0Q_x8BgE8Sv"
      },
      "outputs": [],
      "source": [
        "import numpy as np\n",
        "import matplotlib.pyplot as plt\n",
        "import seaborn as sns\n",
        "from sklearn.preprocessing import StandardScaler\n",
        "from sklearn.cluster import KMeans\n",
        "from sklearn.model_selection import train_test_split\n",
        "from sklearn.linear_model import LinearRegression\n",
        "from sklearn.ensemble import RandomForestRegressor\n",
        "from sklearn.metrics import mean_squared_error, r2_score\n",
        "from sklearn.preprocessing import OneHotEncoder"
      ]
    },
    {
      "cell_type": "markdown",
      "metadata": {
        "id": "5lxWaTWDE8Sw"
      },
      "source": [
        "#### Reading the data from files in both the folders and combining them"
      ]
    },
    {
      "cell_type": "code",
      "execution_count": 3,
      "metadata": {
        "colab": {
          "base_uri": "https://localhost:8080/",
          "height": 369
        },
        "id": "qz71OKB1E8Sx",
        "outputId": "59ff4f08-2f59-4804-c848-62674fdb40e2"
      },
      "outputs": [
        {
          "output_type": "error",
          "ename": "FileNotFoundError",
          "evalue": "[Errno 2] No such file or directory: 'Dataset 1/googleads-performance.csv'",
          "traceback": [
            "\u001b[0;31m---------------------------------------------------------------------------\u001b[0m",
            "\u001b[0;31mFileNotFoundError\u001b[0m                         Traceback (most recent call last)",
            "\u001b[0;32m<ipython-input-3-c03582a1a989>\u001b[0m in \u001b[0;36m<cell line: 12>\u001b[0;34m()\u001b[0m\n\u001b[1;32m     10\u001b[0m \u001b[0mwebsite_landings_file\u001b[0m \u001b[0;34m=\u001b[0m \u001b[0;34m'website-landings.csv'\u001b[0m\u001b[0;34m\u001b[0m\u001b[0;34m\u001b[0m\u001b[0m\n\u001b[1;32m     11\u001b[0m \u001b[0;34m\u001b[0m\u001b[0m\n\u001b[0;32m---> 12\u001b[0;31m \u001b[0mgoogle_ads_df1\u001b[0m \u001b[0;34m=\u001b[0m \u001b[0mpd\u001b[0m\u001b[0;34m.\u001b[0m\u001b[0mread_csv\u001b[0m\u001b[0;34m(\u001b[0m\u001b[0mfolder1\u001b[0m \u001b[0;34m+\u001b[0m \u001b[0mgoogle_ads_file\u001b[0m\u001b[0;34m)\u001b[0m\u001b[0;34m\u001b[0m\u001b[0;34m\u001b[0m\u001b[0m\n\u001b[0m\u001b[1;32m     13\u001b[0m \u001b[0mmeta_ads_df1\u001b[0m \u001b[0;34m=\u001b[0m \u001b[0mpd\u001b[0m\u001b[0;34m.\u001b[0m\u001b[0mread_csv\u001b[0m\u001b[0;34m(\u001b[0m\u001b[0mfolder1\u001b[0m \u001b[0;34m+\u001b[0m \u001b[0mmeta_ads_file\u001b[0m\u001b[0;34m)\u001b[0m\u001b[0;34m\u001b[0m\u001b[0;34m\u001b[0m\u001b[0m\n\u001b[1;32m     14\u001b[0m \u001b[0mmicrosoft_ads_df1\u001b[0m \u001b[0;34m=\u001b[0m \u001b[0mpd\u001b[0m\u001b[0;34m.\u001b[0m\u001b[0mread_csv\u001b[0m\u001b[0;34m(\u001b[0m\u001b[0mfolder1\u001b[0m \u001b[0;34m+\u001b[0m \u001b[0mmicrosoft_ads_file\u001b[0m\u001b[0;34m)\u001b[0m\u001b[0;34m\u001b[0m\u001b[0;34m\u001b[0m\u001b[0m\n",
            "\u001b[0;32m/usr/local/lib/python3.10/dist-packages/pandas/io/parsers/readers.py\u001b[0m in \u001b[0;36mread_csv\u001b[0;34m(filepath_or_buffer, sep, delimiter, header, names, index_col, usecols, dtype, engine, converters, true_values, false_values, skipinitialspace, skiprows, skipfooter, nrows, na_values, keep_default_na, na_filter, verbose, skip_blank_lines, parse_dates, infer_datetime_format, keep_date_col, date_parser, date_format, dayfirst, cache_dates, iterator, chunksize, compression, thousands, decimal, lineterminator, quotechar, quoting, doublequote, escapechar, comment, encoding, encoding_errors, dialect, on_bad_lines, delim_whitespace, low_memory, memory_map, float_precision, storage_options, dtype_backend)\u001b[0m\n\u001b[1;32m    946\u001b[0m     \u001b[0mkwds\u001b[0m\u001b[0;34m.\u001b[0m\u001b[0mupdate\u001b[0m\u001b[0;34m(\u001b[0m\u001b[0mkwds_defaults\u001b[0m\u001b[0;34m)\u001b[0m\u001b[0;34m\u001b[0m\u001b[0;34m\u001b[0m\u001b[0m\n\u001b[1;32m    947\u001b[0m \u001b[0;34m\u001b[0m\u001b[0m\n\u001b[0;32m--> 948\u001b[0;31m     \u001b[0;32mreturn\u001b[0m \u001b[0m_read\u001b[0m\u001b[0;34m(\u001b[0m\u001b[0mfilepath_or_buffer\u001b[0m\u001b[0;34m,\u001b[0m \u001b[0mkwds\u001b[0m\u001b[0;34m)\u001b[0m\u001b[0;34m\u001b[0m\u001b[0;34m\u001b[0m\u001b[0m\n\u001b[0m\u001b[1;32m    949\u001b[0m \u001b[0;34m\u001b[0m\u001b[0m\n\u001b[1;32m    950\u001b[0m \u001b[0;34m\u001b[0m\u001b[0m\n",
            "\u001b[0;32m/usr/local/lib/python3.10/dist-packages/pandas/io/parsers/readers.py\u001b[0m in \u001b[0;36m_read\u001b[0;34m(filepath_or_buffer, kwds)\u001b[0m\n\u001b[1;32m    609\u001b[0m \u001b[0;34m\u001b[0m\u001b[0m\n\u001b[1;32m    610\u001b[0m     \u001b[0;31m# Create the parser.\u001b[0m\u001b[0;34m\u001b[0m\u001b[0;34m\u001b[0m\u001b[0m\n\u001b[0;32m--> 611\u001b[0;31m     \u001b[0mparser\u001b[0m \u001b[0;34m=\u001b[0m \u001b[0mTextFileReader\u001b[0m\u001b[0;34m(\u001b[0m\u001b[0mfilepath_or_buffer\u001b[0m\u001b[0;34m,\u001b[0m \u001b[0;34m**\u001b[0m\u001b[0mkwds\u001b[0m\u001b[0;34m)\u001b[0m\u001b[0;34m\u001b[0m\u001b[0;34m\u001b[0m\u001b[0m\n\u001b[0m\u001b[1;32m    612\u001b[0m \u001b[0;34m\u001b[0m\u001b[0m\n\u001b[1;32m    613\u001b[0m     \u001b[0;32mif\u001b[0m \u001b[0mchunksize\u001b[0m \u001b[0;32mor\u001b[0m \u001b[0miterator\u001b[0m\u001b[0;34m:\u001b[0m\u001b[0;34m\u001b[0m\u001b[0;34m\u001b[0m\u001b[0m\n",
            "\u001b[0;32m/usr/local/lib/python3.10/dist-packages/pandas/io/parsers/readers.py\u001b[0m in \u001b[0;36m__init__\u001b[0;34m(self, f, engine, **kwds)\u001b[0m\n\u001b[1;32m   1446\u001b[0m \u001b[0;34m\u001b[0m\u001b[0m\n\u001b[1;32m   1447\u001b[0m         \u001b[0mself\u001b[0m\u001b[0;34m.\u001b[0m\u001b[0mhandles\u001b[0m\u001b[0;34m:\u001b[0m \u001b[0mIOHandles\u001b[0m \u001b[0;34m|\u001b[0m \u001b[0;32mNone\u001b[0m \u001b[0;34m=\u001b[0m \u001b[0;32mNone\u001b[0m\u001b[0;34m\u001b[0m\u001b[0;34m\u001b[0m\u001b[0m\n\u001b[0;32m-> 1448\u001b[0;31m         \u001b[0mself\u001b[0m\u001b[0;34m.\u001b[0m\u001b[0m_engine\u001b[0m \u001b[0;34m=\u001b[0m \u001b[0mself\u001b[0m\u001b[0;34m.\u001b[0m\u001b[0m_make_engine\u001b[0m\u001b[0;34m(\u001b[0m\u001b[0mf\u001b[0m\u001b[0;34m,\u001b[0m \u001b[0mself\u001b[0m\u001b[0;34m.\u001b[0m\u001b[0mengine\u001b[0m\u001b[0;34m)\u001b[0m\u001b[0;34m\u001b[0m\u001b[0;34m\u001b[0m\u001b[0m\n\u001b[0m\u001b[1;32m   1449\u001b[0m \u001b[0;34m\u001b[0m\u001b[0m\n\u001b[1;32m   1450\u001b[0m     \u001b[0;32mdef\u001b[0m \u001b[0mclose\u001b[0m\u001b[0;34m(\u001b[0m\u001b[0mself\u001b[0m\u001b[0;34m)\u001b[0m \u001b[0;34m->\u001b[0m \u001b[0;32mNone\u001b[0m\u001b[0;34m:\u001b[0m\u001b[0;34m\u001b[0m\u001b[0;34m\u001b[0m\u001b[0m\n",
            "\u001b[0;32m/usr/local/lib/python3.10/dist-packages/pandas/io/parsers/readers.py\u001b[0m in \u001b[0;36m_make_engine\u001b[0;34m(self, f, engine)\u001b[0m\n\u001b[1;32m   1703\u001b[0m                 \u001b[0;32mif\u001b[0m \u001b[0;34m\"b\"\u001b[0m \u001b[0;32mnot\u001b[0m \u001b[0;32min\u001b[0m \u001b[0mmode\u001b[0m\u001b[0;34m:\u001b[0m\u001b[0;34m\u001b[0m\u001b[0;34m\u001b[0m\u001b[0m\n\u001b[1;32m   1704\u001b[0m                     \u001b[0mmode\u001b[0m \u001b[0;34m+=\u001b[0m \u001b[0;34m\"b\"\u001b[0m\u001b[0;34m\u001b[0m\u001b[0;34m\u001b[0m\u001b[0m\n\u001b[0;32m-> 1705\u001b[0;31m             self.handles = get_handle(\n\u001b[0m\u001b[1;32m   1706\u001b[0m                 \u001b[0mf\u001b[0m\u001b[0;34m,\u001b[0m\u001b[0;34m\u001b[0m\u001b[0;34m\u001b[0m\u001b[0m\n\u001b[1;32m   1707\u001b[0m                 \u001b[0mmode\u001b[0m\u001b[0;34m,\u001b[0m\u001b[0;34m\u001b[0m\u001b[0;34m\u001b[0m\u001b[0m\n",
            "\u001b[0;32m/usr/local/lib/python3.10/dist-packages/pandas/io/common.py\u001b[0m in \u001b[0;36mget_handle\u001b[0;34m(path_or_buf, mode, encoding, compression, memory_map, is_text, errors, storage_options)\u001b[0m\n\u001b[1;32m    861\u001b[0m         \u001b[0;32mif\u001b[0m \u001b[0mioargs\u001b[0m\u001b[0;34m.\u001b[0m\u001b[0mencoding\u001b[0m \u001b[0;32mand\u001b[0m \u001b[0;34m\"b\"\u001b[0m \u001b[0;32mnot\u001b[0m \u001b[0;32min\u001b[0m \u001b[0mioargs\u001b[0m\u001b[0;34m.\u001b[0m\u001b[0mmode\u001b[0m\u001b[0;34m:\u001b[0m\u001b[0;34m\u001b[0m\u001b[0;34m\u001b[0m\u001b[0m\n\u001b[1;32m    862\u001b[0m             \u001b[0;31m# Encoding\u001b[0m\u001b[0;34m\u001b[0m\u001b[0;34m\u001b[0m\u001b[0m\n\u001b[0;32m--> 863\u001b[0;31m             handle = open(\n\u001b[0m\u001b[1;32m    864\u001b[0m                 \u001b[0mhandle\u001b[0m\u001b[0;34m,\u001b[0m\u001b[0;34m\u001b[0m\u001b[0;34m\u001b[0m\u001b[0m\n\u001b[1;32m    865\u001b[0m                 \u001b[0mioargs\u001b[0m\u001b[0;34m.\u001b[0m\u001b[0mmode\u001b[0m\u001b[0;34m,\u001b[0m\u001b[0;34m\u001b[0m\u001b[0;34m\u001b[0m\u001b[0m\n",
            "\u001b[0;31mFileNotFoundError\u001b[0m: [Errno 2] No such file or directory: 'Dataset 1/googleads-performance.csv'"
          ]
        }
      ],
      "source": [
        "import pandas as pd\n",
        "pd.set_option('display.max_columns', None)\n",
        "\n",
        "folder1 = 'Dataset 1/'\n",
        "folder2 = 'Dataset 2/'\n",
        "\n",
        "google_ads_file = 'googleads-performance.csv'\n",
        "meta_ads_file = 'metaads-performance.csv'\n",
        "microsoft_ads_file = 'microsoftads-performance.csv'\n",
        "website_landings_file = 'website-landings.csv'\n",
        "\n",
        "google_ads_df1 = pd.read_csv(folder1 + google_ads_file)\n",
        "meta_ads_df1 = pd.read_csv(folder1 + meta_ads_file)\n",
        "microsoft_ads_df1 = pd.read_csv(folder1 + microsoft_ads_file)\n",
        "website_landings_df1 = pd.read_csv(folder1 + website_landings_file)\n",
        "\n",
        "google_ads_df2 = pd.read_csv(folder2 + google_ads_file)\n",
        "meta_ads_df2 = pd.read_csv(folder2 + meta_ads_file)\n",
        "microsoft_ads_df2 = pd.read_csv(folder2 + microsoft_ads_file)\n",
        "website_landings_df2 = pd.read_csv(folder2 + website_landings_file)\n",
        "\n",
        "google_ads_df = pd.concat([google_ads_df1, google_ads_df2], ignore_index=True)\n",
        "meta_ads_df = pd.concat([meta_ads_df1, meta_ads_df2], ignore_index=True)\n",
        "microsoft_ads_df = pd.concat([microsoft_ads_df1, microsoft_ads_df2], ignore_index=True)\n",
        "website_landings_df = pd.concat([website_landings_df1, website_landings_df2], ignore_index=True)\n",
        "\n",
        "print(\"Google Ads DataFrame:\")\n",
        "print(google_ads_df.head())\n",
        "\n",
        "print(\"\\nMeta Ads DataFrame:\")\n",
        "print(meta_ads_df.head())\n",
        "\n",
        "print(\"\\nMicrosoft Ads DataFrame:\")\n",
        "print(microsoft_ads_df.head())\n",
        "\n",
        "print(\"\\nWebsite Landings DataFrame:\")\n",
        "print(website_landings_df.head())\n"
      ]
    },
    {
      "cell_type": "code",
      "execution_count": null,
      "metadata": {
        "id": "LggIpxzgE8Sz"
      },
      "outputs": [],
      "source": [
        "def preprocess_ads_data(df, platform):\n",
        "    df['Date'] = pd.to_datetime(df['Date'], format='%Y-%m-%d')\n",
        "    df['Platform'] = platform\n",
        "    df.fillna(0, inplace=True)\n",
        "    return df"
      ]
    },
    {
      "cell_type": "code",
      "execution_count": null,
      "metadata": {
        "id": "hNP7Tl0zE8S0"
      },
      "outputs": [],
      "source": [
        "google_ads_df = preprocess_ads_data(google_ads_df, 'Google Ads')\n",
        "meta_ads_df = preprocess_ads_data(meta_ads_df, 'Meta Ads')\n",
        "microsoft_ads_df = preprocess_ads_data(microsoft_ads_df, 'Microsoft Ads')"
      ]
    },
    {
      "cell_type": "code",
      "execution_count": null,
      "metadata": {
        "id": "APm2my3vE8S1"
      },
      "outputs": [],
      "source": [
        "website_landings_df['Website Landing Time'] = pd.to_datetime(website_landings_df['Website Landing Time'], format='%Y-%m-%d %H:%M:%S')\n",
        "website_landings_df['Is Converted'] = website_landings_df['Is Converted'].astype(int)"
      ]
    },
    {
      "cell_type": "code",
      "execution_count": null,
      "metadata": {
        "id": "LS65n_--E8S1"
      },
      "outputs": [],
      "source": [
        "ads_data = pd.concat([google_ads_df, meta_ads_df, microsoft_ads_df], axis=0)"
      ]
    },
    {
      "cell_type": "markdown",
      "metadata": {
        "id": "Dwc22nPNE8S2"
      },
      "source": [
        "#### Overview of the data"
      ]
    },
    {
      "cell_type": "code",
      "execution_count": null,
      "metadata": {
        "id": "Cvtqeo5BE8S3"
      },
      "outputs": [],
      "source": [
        "ads_data.tail()"
      ]
    },
    {
      "cell_type": "code",
      "execution_count": null,
      "metadata": {
        "id": "pALgCVMyE8S4"
      },
      "outputs": [],
      "source": [
        "ads_data.describe()"
      ]
    },
    {
      "cell_type": "markdown",
      "metadata": {
        "id": "J5ij470pE8S5"
      },
      "source": [
        "### EDA: Analyze Customer Journey and Ad Performance"
      ]
    },
    {
      "cell_type": "markdown",
      "metadata": {
        "id": "FT7wLboxE8S5"
      },
      "source": [
        "#### Plotting Impressions vs. Conversions for each platform"
      ]
    },
    {
      "cell_type": "code",
      "execution_count": null,
      "metadata": {
        "id": "EJdHXiguE8S6"
      },
      "outputs": [],
      "source": [
        "plt.figure(figsize=(14, 6))\n",
        "sns.scatterplot(data=ads_data, x='Impressions', y='Conversions', hue='Platform')\n",
        "plt.title('Impressions vs. Conversions by Platform')\n",
        "plt.show()"
      ]
    },
    {
      "cell_type": "markdown",
      "metadata": {
        "id": "9XBsAqrdE8S6"
      },
      "source": [
        "#### Plotting Cost vs. Revenue for each platform"
      ]
    },
    {
      "cell_type": "code",
      "execution_count": null,
      "metadata": {
        "id": "dJbPsaDRE8S7"
      },
      "outputs": [],
      "source": [
        "plt.figure(figsize=(14, 6))\n",
        "sns.scatterplot(data=ads_data, x='Cost', y='Revenue', hue='Platform')\n",
        "plt.title('Cost vs. Revenue by Platform')\n",
        "plt.show()"
      ]
    },
    {
      "cell_type": "markdown",
      "metadata": {
        "id": "Kjdfos8BE8S7"
      },
      "source": [
        "#### Conversion Rate by Source"
      ]
    },
    {
      "cell_type": "code",
      "execution_count": null,
      "metadata": {
        "id": "w_-sE047E8S8"
      },
      "outputs": [],
      "source": [
        "conversion_rate_by_source = website_landings_df.groupby('Source')['Is Converted'].mean().sort_values(ascending=False)\n",
        "conversion_rate_by_source.plot(kind='bar', figsize=(10, 5), title='Conversion Rate by Source')\n",
        "plt.ylabel('Conversion Rate')\n",
        "plt.show()"
      ]
    },
    {
      "cell_type": "markdown",
      "metadata": {
        "id": "mOT8VsQvE8S8"
      },
      "source": [
        "#### Conversion Rate by Channel"
      ]
    },
    {
      "cell_type": "code",
      "execution_count": null,
      "metadata": {
        "id": "Fu1BhbK9E8S8"
      },
      "outputs": [],
      "source": [
        "conversion_rate_by_channel = website_landings_df.groupby('Channel')['Is Converted'].mean().sort_values(ascending=False)\n",
        "conversion_rate_by_channel.plot(kind='bar', figsize=(10, 5), title='Conversion Rate by Channel')\n",
        "plt.ylabel('Conversion Rate')\n",
        "plt.show()"
      ]
    },
    {
      "cell_type": "markdown",
      "metadata": {
        "id": "_v_J-NK9E8S9"
      },
      "source": [
        "##### One-Hot Encode categorical columns - just for HeatMap"
      ]
    },
    {
      "cell_type": "code",
      "execution_count": null,
      "metadata": {
        "id": "PO02r5C1E8S9"
      },
      "outputs": [],
      "source": [
        "df = pd.get_dummies(ads_data, columns=['Campaign type', 'Platform'])"
      ]
    },
    {
      "cell_type": "code",
      "execution_count": null,
      "metadata": {
        "id": "O9SBlY25E8S9"
      },
      "outputs": [],
      "source": [
        "plt.figure(figsize=(10, 8))\n",
        "sns.heatmap(df.corr(), annot=True, cmap='coolwarm')\n",
        "plt.title('Correlation Matrix for Ad Performance Metrics')\n",
        "plt.show()"
      ]
    },
    {
      "cell_type": "markdown",
      "metadata": {
        "id": "Es8fe0F1E8S-"
      },
      "source": [
        "#### Feature Engineering: Aggregating Data"
      ]
    },
    {
      "cell_type": "code",
      "execution_count": null,
      "metadata": {
        "id": "MPf6e4WJE8S-"
      },
      "outputs": [],
      "source": [
        "ads_data['CTR'] = ads_data['Clicks'] / ads_data['Impressions'] # Click-Through Rate\n",
        "ads_data['CPC'] = ads_data['Cost'] / ads_data['Clicks'] # Cost Per Click\n",
        "ads_data['CPA'] = ads_data['Cost'] / ads_data['Conversions'] # Cost Per Acquisition"
      ]
    },
    {
      "cell_type": "code",
      "execution_count": null,
      "metadata": {
        "id": "rQOgMVyFE8S-"
      },
      "outputs": [],
      "source": [
        "ads_data.replace([np.inf, -np.inf], np.nan, inplace=True)\n",
        "ads_data.fillna(0, inplace=True)"
      ]
    },
    {
      "cell_type": "markdown",
      "metadata": {
        "id": "ulhy33x5E8S-"
      },
      "source": [
        "#### Summarize performance by platform and campaign"
      ]
    },
    {
      "cell_type": "code",
      "execution_count": null,
      "metadata": {
        "id": "cEFmicTIE8S_"
      },
      "outputs": [],
      "source": [
        "performance_summary = ads_data.groupby(['Platform', 'Campaign type']).agg({\n",
        "    'Impressions': 'sum',\n",
        "    'Clicks': 'sum',\n",
        "    'Cost': 'sum',\n",
        "    'Conversions': 'sum',\n",
        "    'Revenue': 'sum'\n",
        "}).reset_index()"
      ]
    },
    {
      "cell_type": "code",
      "execution_count": null,
      "metadata": {
        "id": "wTwpzegzE8S_"
      },
      "outputs": [],
      "source": [
        "print(performance_summary)"
      ]
    },
    {
      "cell_type": "markdown",
      "metadata": {
        "id": "2PpJj07ZE8S_"
      },
      "source": [
        "#### Standardize Data"
      ]
    },
    {
      "cell_type": "code",
      "execution_count": null,
      "metadata": {
        "id": "4EBs9oEkE8TA"
      },
      "outputs": [],
      "source": [
        "scaler = StandardScaler()\n",
        "X = scaler.fit_transform(performance_summary[['Impressions', 'Clicks', 'Cost', 'Conversions', 'Revenue']])"
      ]
    },
    {
      "cell_type": "markdown",
      "metadata": {
        "id": "6rEykYDWE8TA"
      },
      "source": [
        "#### Apply KMeans Clustering"
      ]
    },
    {
      "cell_type": "code",
      "execution_count": null,
      "metadata": {
        "id": "ZZLNf_pSE8TA"
      },
      "outputs": [],
      "source": [
        "kmeans = KMeans(n_clusters=3, random_state=42, n_init=10)\n",
        "performance_summary['Cluster'] = kmeans.fit_predict(X)"
      ]
    },
    {
      "cell_type": "markdown",
      "metadata": {
        "id": "HSVJAxpTE8TA"
      },
      "source": [
        "#### Visualize Clusters"
      ]
    },
    {
      "cell_type": "code",
      "execution_count": null,
      "metadata": {
        "id": "QCzwjeC7E8TB"
      },
      "outputs": [],
      "source": [
        "performance_summary['Cluster'].describe()"
      ]
    },
    {
      "cell_type": "code",
      "execution_count": null,
      "metadata": {
        "id": "mEtqJf6mE8TB"
      },
      "outputs": [],
      "source": [
        "plt.figure(figsize=(10, 6))\n",
        "sns.scatterplot(\n",
        "    data=performance_summary,\n",
        "    x='Impressions',\n",
        "    y='Revenue',\n",
        "    hue='Cluster',\n",
        "    palette='viridis',\n",
        "    style='Cluster',\n",
        "    s=100,\n",
        "    legend='full'\n",
        ")\n",
        "\n",
        "plt.title('Clusters based on Impressions and Revenue')\n",
        "plt.xlabel('Impressions')\n",
        "plt.ylabel('Revenue')\n",
        "plt.legend(title='Cluster')\n",
        "plt.grid(True)\n",
        "plt.show()"
      ]
    },
    {
      "cell_type": "code",
      "execution_count": null,
      "metadata": {
        "id": "lD5-bRjSE8TB"
      },
      "outputs": [],
      "source": [
        "X = ads_data[['Impressions', 'Clicks', 'Cost']]\n",
        "y = ads_data['Conversions']"
      ]
    },
    {
      "cell_type": "code",
      "execution_count": null,
      "metadata": {
        "id": "v5J2rpr_E8TC"
      },
      "outputs": [],
      "source": [
        "model = LinearRegression()\n",
        "model.fit(X, y)\n",
        "ads_data['Predicted Conversions'] = model.predict(X)"
      ]
    },
    {
      "cell_type": "markdown",
      "metadata": {
        "id": "brpQ6YjUE8TD"
      },
      "source": [
        "#### Budget Reallocation Logic"
      ]
    },
    {
      "cell_type": "code",
      "execution_count": null,
      "metadata": {
        "id": "btBz2C7qE8TD"
      },
      "outputs": [],
      "source": [
        "total_budget = 200000\n",
        "min_budget_per_channel = 0.1 * total_budget"
      ]
    },
    {
      "cell_type": "code",
      "execution_count": null,
      "metadata": {
        "id": "4Up-qe22E8TD"
      },
      "outputs": [],
      "source": [
        "# Calculate budget allocation\n",
        "def allocate_budget(df, total_budget):\n",
        "    df['Budget Allocation'] = (df['Predicted Conversions'] / df['Predicted Conversions'].sum()) * total_budget\n",
        "    return df"
      ]
    },
    {
      "cell_type": "code",
      "execution_count": null,
      "metadata": {
        "id": "3ZT-Jzr3E8TE"
      },
      "outputs": [],
      "source": [
        "budget_allocation = allocate_budget(ads_data, total_budget)"
      ]
    },
    {
      "cell_type": "code",
      "execution_count": null,
      "metadata": {
        "id": "C5y9P1GyE8TE"
      },
      "outputs": [],
      "source": [
        "# Ensure minimum budget allocation constraint\n",
        "def enforce_min_budget(df, min_budget):\n",
        "    df.loc[df['Budget Allocation'] < min_budget, 'Budget Allocation'] = min_budget\n",
        "    return df"
      ]
    },
    {
      "cell_type": "code",
      "execution_count": null,
      "metadata": {
        "id": "LF3Et7RXE8TE"
      },
      "outputs": [],
      "source": [
        "budget_allocation = enforce_min_budget(budget_allocation, min_budget_per_channel)"
      ]
    },
    {
      "cell_type": "markdown",
      "metadata": {
        "id": "-9S-teLsE8TE"
      },
      "source": [
        "#### Output: Cumulated Budgets and Estimated Conversions"
      ]
    },
    {
      "cell_type": "code",
      "execution_count": null,
      "metadata": {
        "id": "bYPtngAPE8TE"
      },
      "outputs": [],
      "source": [
        "budget_summary = budget_allocation.groupby(['Platform', 'Campaign type']).agg({\n",
        "    'Budget Allocation': 'sum',\n",
        "    'Predicted Conversions': 'sum'\n",
        "}).reset_index()\n",
        "\n",
        "print(budget_summary)"
      ]
    },
    {
      "cell_type": "markdown",
      "metadata": {
        "id": "G8RvbnomE8TF"
      },
      "source": [
        "#### Visualization of Budget Allocation"
      ]
    },
    {
      "cell_type": "code",
      "execution_count": null,
      "metadata": {
        "id": "0gOj-kmmE8TF"
      },
      "outputs": [],
      "source": [
        "plt.figure(figsize=(12, 6))\n",
        "sns.barplot(x='Platform', y='Budget Allocation', hue='Campaign type', data=budget_summary)\n",
        "plt.title('Budget Allocation by Platform and Campaign Type')\n",
        "plt.xlabel('Platform')\n",
        "plt.ylabel('Budget Allocation ($)')\n",
        "plt.show()"
      ]
    },
    {
      "cell_type": "markdown",
      "metadata": {
        "id": "EJe9u1rsE8TF"
      },
      "source": [
        "#### Preparing data for modelling"
      ]
    },
    {
      "cell_type": "code",
      "execution_count": null,
      "metadata": {
        "id": "BcpsUllEE8TG"
      },
      "outputs": [],
      "source": [
        "X = ads_data[['Impressions', 'Clicks', 'Cost', 'CTR', 'CPC']]\n",
        "y = ads_data['Conversions']"
      ]
    },
    {
      "cell_type": "code",
      "execution_count": null,
      "metadata": {
        "id": "20HzVa54E8TG"
      },
      "outputs": [],
      "source": [
        "X.head()"
      ]
    },
    {
      "cell_type": "code",
      "execution_count": null,
      "metadata": {
        "id": "WT3Bx6CkE8TG"
      },
      "outputs": [],
      "source": [
        "X_train, X_test, y_train, y_test = train_test_split(X, y, test_size=0.2, random_state=42)"
      ]
    },
    {
      "cell_type": "code",
      "execution_count": null,
      "metadata": {
        "id": "6vxcSylxE8TG"
      },
      "outputs": [],
      "source": [
        "X_train.replace([np.inf, -np.inf], np.nan, inplace=True)\n",
        "X_test.replace([np.inf, -np.inf], np.nan, inplace=True)\n",
        "X_train.fillna(0, inplace=True)\n",
        "X_test.fillna(0, inplace=True)"
      ]
    },
    {
      "cell_type": "code",
      "execution_count": null,
      "metadata": {
        "id": "G9EkF4xnE8TH"
      },
      "outputs": [],
      "source": [
        "lr_model = LinearRegression()\n",
        "lr_model.fit(X_train, y_train)\n",
        "lr_predictions = lr_model.predict(X_test)\n",
        "print(\"Linear Regression - RMSE:\", np.sqrt(mean_squared_error(y_test, lr_predictions)))\n",
        "print(\"Linear Regression - R2 Score:\", r2_score(y_test, lr_predictions))"
      ]
    },
    {
      "cell_type": "code",
      "execution_count": null,
      "metadata": {
        "id": "KQsy9QtcE8TH"
      },
      "outputs": [],
      "source": [
        "rf_model = RandomForestRegressor(n_estimators=100, random_state=42)\n",
        "rf_model.fit(X_train, y_train)\n",
        "rf_predictions = rf_model.predict(X_test)\n",
        "print(\"Random Forest - RMSE:\", np.sqrt(mean_squared_error(y_test, rf_predictions)))\n",
        "print(\"Random Forest - R2 Score:\", r2_score(y_test, rf_predictions))"
      ]
    },
    {
      "cell_type": "markdown",
      "metadata": {
        "id": "wM-yYyF5E8TI"
      },
      "source": [
        "#### Budget Allocation"
      ]
    },
    {
      "cell_type": "code",
      "execution_count": null,
      "metadata": {
        "id": "rUrYtJ7EE8TJ"
      },
      "outputs": [],
      "source": [
        "total_budget = 200000\n",
        "min_budget_per_channel = 0.1 * total_budget"
      ]
    },
    {
      "cell_type": "code",
      "execution_count": null,
      "metadata": {
        "id": "-UGRFjnBE8TJ"
      },
      "outputs": [],
      "source": [
        "def allocate_budget(df, total_budget):\n",
        "    df['Budget Allocation'] = (df['Predicted Conversions'] / df['Predicted Conversions'].sum()) * total_budget\n",
        "    return df"
      ]
    },
    {
      "cell_type": "code",
      "execution_count": null,
      "metadata": {
        "id": "Z2I4LMcQE8TJ"
      },
      "outputs": [],
      "source": [
        "budget_allocation = allocate_budget(ads_data, total_budget)"
      ]
    },
    {
      "cell_type": "code",
      "execution_count": null,
      "metadata": {
        "id": "BnAWHY5vE8TJ"
      },
      "outputs": [],
      "source": [
        "def enforce_min_budget(df, min_budget):\n",
        "    df.loc[df['Budget Allocation'] < min_budget, 'Budget Allocation'] = min_budget\n",
        "    return df"
      ]
    },
    {
      "cell_type": "code",
      "execution_count": null,
      "metadata": {
        "id": "ijEb_JJYE8TJ"
      },
      "outputs": [],
      "source": [
        "\n",
        "budget_allocation = enforce_min_budget(budget_allocation, min_budget_per_channel)"
      ]
    },
    {
      "cell_type": "markdown",
      "metadata": {
        "id": "qYF6YgYQE8TK"
      },
      "source": [
        "#### Visualization of Budget Allocation"
      ]
    },
    {
      "cell_type": "code",
      "execution_count": null,
      "metadata": {
        "id": "x60oy8wSE8TK"
      },
      "outputs": [],
      "source": [
        "budget_summary = budget_allocation.groupby(['Platform', 'Campaign type']).agg({\n",
        "    'Budget Allocation': 'sum',\n",
        "    'Predicted Conversions': 'sum'\n",
        "}).reset_index()\n",
        "\n",
        "print(budget_summary)"
      ]
    },
    {
      "cell_type": "code",
      "execution_count": null,
      "metadata": {
        "id": "iI7Aqe1rE8TK"
      },
      "outputs": [],
      "source": [
        "plt.figure(figsize=(12, 6))\n",
        "sns.barplot(x='Platform', y='Budget Allocation', hue='Campaign type', data=budget_summary)\n",
        "plt.title('Budget Allocation by Platform and Campaign Type')\n",
        "plt.xlabel('Platform')\n",
        "plt.ylabel('Budget Allocation ($)')\n",
        "plt.show()"
      ]
    },
    {
      "cell_type": "markdown",
      "metadata": {
        "id": "hJ9f4oJcE8TL"
      },
      "source": [
        "#### Budget Allocation"
      ]
    },
    {
      "cell_type": "code",
      "execution_count": null,
      "metadata": {
        "id": "txtJH48ZE8TL"
      },
      "outputs": [],
      "source": []
    },
    {
      "cell_type": "code",
      "execution_count": null,
      "metadata": {
        "id": "uKUQHa83E8TL"
      },
      "outputs": [],
      "source": []
    },
    {
      "cell_type": "markdown",
      "metadata": {
        "id": "MtxrJ8q7E8TL"
      },
      "source": [
        "##### Budget Allocation by user input"
      ]
    },
    {
      "cell_type": "code",
      "execution_count": null,
      "metadata": {
        "id": "DGomE_TEE8TM"
      },
      "outputs": [],
      "source": []
    }
  ],
  "metadata": {
    "kernelspec": {
      "display_name": "Python 3",
      "language": "python",
      "name": "python3"
    },
    "language_info": {
      "codemirror_mode": {
        "name": "ipython",
        "version": 3
      },
      "file_extension": ".py",
      "mimetype": "text/x-python",
      "name": "python",
      "nbconvert_exporter": "python",
      "pygments_lexer": "ipython3",
      "version": "3.10.2"
    },
    "colab": {
      "provenance": [],
      "include_colab_link": true
    }
  },
  "nbformat": 4,
  "nbformat_minor": 0
}